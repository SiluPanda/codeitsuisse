{
 "cells": [
  {
   "cell_type": "code",
   "execution_count": 3,
   "metadata": {},
   "outputs": [
    {
     "name": "stdout",
     "output_type": "stream",
     "text": [
      "1.13.1\n"
     ]
    }
   ],
   "source": [
    "from __future__ import absolute_import, division, print_function\n",
    "\n",
    "import pathlib\n",
    "\n",
    "import matplotlib.pyplot as plt\n",
    "import pandas as pd\n",
    "import seaborn as sns\n",
    "\n",
    "import tensorflow as tf\n",
    "from tensorflow import keras\n",
    "from tensorflow.keras import layers\n",
    "from sklearn import linear_model\n",
    "\n",
    "print(tf.__version__)\n"
   ]
  },
  {
   "cell_type": "code",
   "execution_count": 4,
   "metadata": {},
   "outputs": [],
   "source": [
    "train = pd.read_csv(\"xaa.csv\")\n",
    "test = pd.read_csv(\"test.csv\")"
   ]
  },
  {
   "cell_type": "code",
   "execution_count": 5,
   "metadata": {},
   "outputs": [
    {
     "name": "stdout",
     "output_type": "stream",
     "text": [
      "(499999, 25) (13716, 26)\n"
     ]
    }
   ],
   "source": [
    "print(train.shape, test.shape)"
   ]
  },
  {
   "cell_type": "code",
   "execution_count": 6,
   "metadata": {},
   "outputs": [
    {
     "name": "stdout",
     "output_type": "stream",
     "text": [
      "   soldierId     shipId  attackId  assists  greekFireItems  healthLost  \\\n",
      "0        0.0       24.0       0.0      0.0             5.0      247.30   \n",
      "1        1.0   440875.0       1.0      1.0             0.0       37.65   \n",
      "2        2.0   878242.0       2.0      0.0             1.0       93.73   \n",
      "3        3.0  1319841.0       3.0      0.0             0.0       95.88   \n",
      "4        4.0  1757883.0       4.0      0.0             1.0        0.00   \n",
      "\n",
      "   knockedOutSoldiers  throatSlits  healingPotionsUsed  killRank  ...  \\\n",
      "0                 2.0          0.0                 4.0      17.0  ...   \n",
      "1                 1.0          1.0                 0.0      45.0  ...   \n",
      "2                 1.0          0.0                 2.0      54.0  ...   \n",
      "3                 0.0          0.0                 0.0      86.0  ...   \n",
      "4                 0.0          0.0                 1.0      58.0  ...   \n",
      "\n",
      "   numSaves  horseRideDistance  horseRideKills  swimmingDistance  \\\n",
      "0       1.0              591.3             0.0               0.0   \n",
      "1       0.0                0.0             0.0               0.0   \n",
      "2       1.0                0.0             0.0               0.0   \n",
      "3       0.0                0.0             0.0               0.0   \n",
      "4       0.0                0.0             0.0               0.0   \n",
      "\n",
      "   friendlyKills  castleTowerDestroys  onFootDistance  weaponsUsed  \\\n",
      "0            0.0                  0.0          782.40          4.0   \n",
      "1            0.0                  0.0          119.60          3.0   \n",
      "2            0.0                  0.0         3248.00          5.0   \n",
      "3            0.0                  0.0           21.49          1.0   \n",
      "4            0.0                  0.0          640.80          4.0   \n",
      "\n",
      "   respectEarned  bestSoldierPerc  \n",
      "0         1458.0           0.8571  \n",
      "1         1511.0           0.0400  \n",
      "2         1583.0           0.7407  \n",
      "3         1489.0           0.1146  \n",
      "4         1475.0           0.5217  \n",
      "\n",
      "[5 rows x 25 columns]\n"
     ]
    }
   ],
   "source": [
    "print(train.head(5))"
   ]
  },
  {
   "cell_type": "code",
   "execution_count": 7,
   "metadata": {},
   "outputs": [
    {
     "name": "stdout",
     "output_type": "stream",
     "text": [
      "(13716, 26)\n"
     ]
    }
   ],
   "source": [
    "print(test.shape)"
   ]
  },
  {
   "cell_type": "code",
   "execution_count": 8,
   "metadata": {},
   "outputs": [
    {
     "name": "stdout",
     "output_type": "stream",
     "text": [
      "   Unnamed: 0  index  soldierId     shipId  attackId  assists  greekFireItems  \\\n",
      "0           0      0    47734.0  1659463.0   47734.0      0.0             0.0   \n",
      "1           1      1    47735.0  1659508.0   47735.0      0.0             1.0   \n",
      "2           2      2    47736.0  1659555.0   47736.0      0.0             0.0   \n",
      "3           3      3    47737.0  1659621.0   47737.0      0.0             0.0   \n",
      "4           4      4    47738.0  1659675.0   47738.0      0.0             1.0   \n",
      "\n",
      "   healthLost  knockedOutSoldiers  throatSlits  ...  numShips  numSaves  \\\n",
      "0       100.0                 1.0          0.0  ...      45.0       0.0   \n",
      "1       400.0                 2.0          0.0  ...      47.0       1.0   \n",
      "2         0.0                 0.0          0.0  ...      28.0       0.0   \n",
      "3        68.6                 0.0          0.0  ...      92.0       0.0   \n",
      "4       370.5                 3.0          0.0  ...      26.0       0.0   \n",
      "\n",
      "   horseRideDistance  horseRideKills  swimmingDistance  friendlyKills  \\\n",
      "0                0.0             0.0               0.0            1.0   \n",
      "1                0.0             0.0               0.0            0.0   \n",
      "2                0.0             0.0               0.0            0.0   \n",
      "3                0.0             0.0               0.0            0.0   \n",
      "4                0.0             0.0               0.0            0.0   \n",
      "\n",
      "   castleTowerDestroys  onFootDistance  weaponsUsed  respectEarned  \n",
      "0                  0.0          421.50          7.0         1500.0  \n",
      "1                  0.0          655.80          4.0         1526.0  \n",
      "2                  0.0           74.58          1.0         1475.0  \n",
      "3                  0.0          167.20          2.0         1464.0  \n",
      "4                  0.0          146.70          3.0         1505.0  \n",
      "\n",
      "[5 rows x 26 columns]\n"
     ]
    }
   ],
   "source": [
    "print(test.head(5))"
   ]
  },
  {
   "cell_type": "code",
   "execution_count": 9,
   "metadata": {},
   "outputs": [],
   "source": [
    "train.pop(\"shipId\")\n",
    "test.pop(\"shipId\")\n",
    "train.pop(\"soldierId\")\n",
    "test.pop(\"Unnamed: 0\")\n",
    "test.pop(\"index\")\n",
    "z = test.pop(\"soldierId\")\n"
   ]
  },
  {
   "cell_type": "code",
   "execution_count": 10,
   "metadata": {},
   "outputs": [],
   "source": [
    "train_labels = train.pop(\"bestSoldierPerc\")"
   ]
  },
  {
   "cell_type": "code",
   "execution_count": 9,
   "metadata": {},
   "outputs": [
    {
     "name": "stdout",
     "output_type": "stream",
     "text": [
      "                        count          mean           std    min       25%  \\\n",
      "attackId             499999.0  23300.182682  13782.654589    0.0  11368.50   \n",
      "assists              499999.0      0.326127      0.750084    0.0      0.00   \n",
      "greekFireItems       499999.0      1.061976      1.638130    0.0      0.00   \n",
      "healthLost           499999.0    154.894372    201.232546    0.0     18.15   \n",
      "knockedOutSoldiers   499999.0      0.809920      1.420531    0.0      0.00   \n",
      "throatSlits          499999.0      0.287293      0.704668    0.0      0.00   \n",
      "healingPotionsUsed   499999.0      1.312619      2.495531    0.0      0.00   \n",
      "killRank             499999.0     43.832834     27.588729    1.0     19.00   \n",
      "killPoints           499999.0   1096.003176    134.507233  167.0   1000.00   \n",
      "enemiesKilled        499999.0      1.128310      1.885243    0.0      0.00   \n",
      "killingStreaks       499999.0     10.118118     29.226530    0.0      0.00   \n",
      "farthermostKill      499999.0      8.540401     54.039077 -999.6      0.00   \n",
      "numShips             499999.0     39.574273     22.118560    1.0     26.00   \n",
      "numSaves             499999.0      0.183772      0.497233    0.0      0.00   \n",
      "horseRideDistance    499999.0    466.812427   1300.545340    0.0      0.00   \n",
      "horseRideKills       499999.0      0.003038      0.064906    0.0      0.00   \n",
      "swimmingDistance     499999.0      4.200927     27.317437    0.0      0.00   \n",
      "friendlyKills        499999.0      9.398247     29.159433    0.0      0.00   \n",
      "castleTowerDestroys  499999.0      0.005524      0.077003    0.0      0.00   \n",
      "onFootDistance       499999.0   1113.768475   1142.787423    0.0    147.30   \n",
      "weaponsUsed          499999.0      3.669709      2.854842    0.0      2.00   \n",
      "respectEarned        499999.0   1504.029408     39.243836  362.0   1493.00   \n",
      "\n",
      "                         50%        75%      max  \n",
      "attackId             22735.0  35232.500  47733.0  \n",
      "assists                  0.0      0.000     16.0  \n",
      "greekFireItems           0.0      2.000     17.0  \n",
      "healthLost             100.0    208.000   4981.0  \n",
      "knockedOutSoldiers       0.0      1.000     34.0  \n",
      "throatSlits              0.0      0.000     21.0  \n",
      "healingPotionsUsed       0.0      2.000     55.0  \n",
      "killRank                42.0     67.000    100.0  \n",
      "killPoints            1041.0   1152.000   1983.0  \n",
      "enemiesKilled            0.0      2.000     49.0  \n",
      "killingStreaks           1.0      1.000    100.0  \n",
      "farthermostKill          0.0      7.377   1084.0  \n",
      "numShips                29.0     47.000    100.0  \n",
      "numSaves                 0.0      0.000     18.0  \n",
      "horseRideDistance        0.0      0.000  48390.0  \n",
      "horseRideKills           0.0      0.000     10.0  \n",
      "swimmingDistance         0.0      0.000   1956.0  \n",
      "friendlyKills            0.0      0.000    100.0  \n",
      "castleTowerDestroys      0.0      0.000      3.0  \n",
      "onFootDistance         650.7   1913.000  13250.0  \n",
      "weaponsUsed              3.0      5.000     67.0  \n",
      "respectEarned         1500.0   1513.000   1919.0  \n"
     ]
    }
   ],
   "source": [
    "train_stats = train.describe()\n",
    "train_stats = train_stats.transpose()\n",
    "print(train_stats)"
   ]
  },
  {
   "cell_type": "code",
   "execution_count": 11,
   "metadata": {},
   "outputs": [
    {
     "name": "stdout",
     "output_type": "stream",
     "text": [
      "(13716, 22)\n"
     ]
    }
   ],
   "source": [
    "def norm(x):\n",
    "  return (x - train_stats['mean']) / train_stats['std']\n",
    "normed_train_data = train\n",
    "normed_test_data = test\n",
    "print(normed_test_data.shape)"
   ]
  },
  {
   "cell_type": "code",
   "execution_count": 16,
   "metadata": {},
   "outputs": [],
   "source": [
    "def build_model():\n",
    "  model = keras.Sequential([\n",
    "    layers.Dense(64,  input_shape=[len(train.keys())]),\n",
    "    layers.Dense(64),\n",
    "    \n",
    "    \n",
    "\n",
    "    \n",
    "    \n",
    "    \n",
    "    \n",
    "    layers.Dense(1)\n",
    "  ])\n",
    "\n",
    "  optimizer = tf.keras.optimizers.RMSprop(0.001)\n",
    "\n",
    "  model.compile(loss='mean_absolute_error',\n",
    "                optimizer=optimizer,\n",
    "                metrics=['mean_absolute_error'])\n",
    "  return model"
   ]
  },
  {
   "cell_type": "code",
   "execution_count": 17,
   "metadata": {},
   "outputs": [],
   "source": [
    "model = build_model()\n"
   ]
  },
  {
   "cell_type": "code",
   "execution_count": 18,
   "metadata": {},
   "outputs": [
    {
     "name": "stdout",
     "output_type": "stream",
     "text": [
      "_________________________________________________________________\n",
      "Layer (type)                 Output Shape              Param #   \n",
      "=================================================================\n",
      "dense_8 (Dense)              (None, 64)                1472      \n",
      "_________________________________________________________________\n",
      "dense_9 (Dense)              (None, 64)                4160      \n",
      "_________________________________________________________________\n",
      "dense_10 (Dense)             (None, 1)                 65        \n",
      "=================================================================\n",
      "Total params: 5,697\n",
      "Trainable params: 5,697\n",
      "Non-trainable params: 0\n",
      "_________________________________________________________________\n"
     ]
    }
   ],
   "source": [
    "model.summary()\n"
   ]
  },
  {
   "cell_type": "code",
   "execution_count": 19,
   "metadata": {},
   "outputs": [
    {
     "name": "stdout",
     "output_type": "stream",
     "text": [
      "[[ 0.10932225]\n",
      " [ 0.01986434]\n",
      " [-0.6101764 ]\n",
      " [ 0.57085896]\n",
      " [ 0.41320002]\n",
      " [ 0.01393642]\n",
      " [ 0.15233855]\n",
      " [ 0.21707721]\n",
      " [-0.2487609 ]\n",
      " [ 0.28500688]]\n"
     ]
    }
   ],
   "source": [
    "example_batch = normed_train_data[:10]\n",
    "example_result = model.predict(example_batch)\n",
    "print(example_result)"
   ]
  },
  {
   "cell_type": "code",
   "execution_count": 20,
   "metadata": {},
   "outputs": [
    {
     "name": "stdout",
     "output_type": "stream",
     "text": [
      "\n",
      "...................."
     ]
    }
   ],
   "source": [
    "model = build_model()\n",
    "\n",
    "class PrintDot(keras.callbacks.Callback):\n",
    "  def on_epoch_end(self, epoch, logs):\n",
    "    if epoch % 100 == 0: print('')\n",
    "    print('.', end='')\n",
    "\n",
    "EPOCHS = 20\n",
    "\n",
    "# The patience parameter is the amount of epochs to check for improvement\n",
    "early_stop = keras.callbacks.EarlyStopping(monitor='val_loss', patience=10)\n",
    "\n",
    "history = model.fit(normed_train_data, train_labels, epochs=EPOCHS,\n",
    "                    validation_split = 0.2, verbose=0, callbacks=[early_stop, PrintDot()])\n",
    "\n",
    "\n"
   ]
  },
  {
   "cell_type": "code",
   "execution_count": 21,
   "metadata": {},
   "outputs": [],
   "source": [
    "test_predictions = model.predict(normed_test_data).flatten()\n"
   ]
  },
  {
   "cell_type": "code",
   "execution_count": 22,
   "metadata": {},
   "outputs": [
    {
     "name": "stdout",
     "output_type": "stream",
     "text": [
      "(13716, 22)\n"
     ]
    }
   ],
   "source": [
    "print(test.shape)"
   ]
  },
  {
   "cell_type": "code",
   "execution_count": 23,
   "metadata": {},
   "outputs": [
    {
     "name": "stdout",
     "output_type": "stream",
     "text": [
      "[0.45546126 0.4768381  0.25434497 ... 0.2998839  0.19344595 0.8612559 ]\n"
     ]
    }
   ],
   "source": [
    "print(test_predictions)"
   ]
  },
  {
   "cell_type": "code",
   "execution_count": 24,
   "metadata": {},
   "outputs": [],
   "source": [
    "col_names = ['soldierId', 'bestSoldierPerc']\n",
    "output = pd.DataFrame(columns = col_names)"
   ]
  },
  {
   "cell_type": "code",
   "execution_count": 25,
   "metadata": {},
   "outputs": [],
   "source": [
    "output['soldierId'] = z\n",
    "output['bestSoldierPerc'] = test_predictions"
   ]
  },
  {
   "cell_type": "code",
   "execution_count": 26,
   "metadata": {
    "scrolled": true
   },
   "outputs": [
    {
     "name": "stdout",
     "output_type": "stream",
     "text": [
      "           bestSoldierPerc\n",
      "soldierId                 \n",
      "47734             0.455461\n",
      "47735             0.476838\n",
      "47736             0.254345\n",
      "47737             0.329849\n",
      "47738             0.111142\n"
     ]
    }
   ],
   "source": [
    "import numpy as np\n",
    "output['soldierId'] = output['soldierId'].astype(np.int64)\n",
    "output.set_index(\"soldierId\", inplace=True)\n",
    "print(output.head(5))"
   ]
  },
  {
   "cell_type": "code",
   "execution_count": 27,
   "metadata": {},
   "outputs": [],
   "source": [
    "output.to_csv(\"output.csv\")"
   ]
  },
  {
   "cell_type": "code",
   "execution_count": null,
   "metadata": {},
   "outputs": [],
   "source": []
  },
  {
   "cell_type": "code",
   "execution_count": null,
   "metadata": {},
   "outputs": [],
   "source": []
  }
 ],
 "metadata": {
  "kernelspec": {
   "display_name": "Python 3",
   "language": "python",
   "name": "python3"
  },
  "language_info": {
   "codemirror_mode": {
    "name": "ipython",
    "version": 3
   },
   "file_extension": ".py",
   "mimetype": "text/x-python",
   "name": "python",
   "nbconvert_exporter": "python",
   "pygments_lexer": "ipython3",
   "version": "3.7.0"
  }
 },
 "nbformat": 4,
 "nbformat_minor": 2
}
